{
 "cells": [
  {
   "cell_type": "markdown",
   "metadata": {},
   "source": [
    "\n",
    "`Author By` :: `Hasnain Zaman`\n"
   ]
  },
  {
   "cell_type": "markdown",
   "metadata": {},
   "source": [
    "# Conditional statements\n",
    "Conditional statements in Python allow you to execute different blocks of code based on whether a certain condition is true or false. The main types of conditional statements in Python are `if`, `elif` (short for \"else if\"), and `else`"
   ]
  },
  {
   "cell_type": "markdown",
   "metadata": {},
   "source": [
    "### if_Statement"
   ]
  },
  {
   "cell_type": "code",
   "execution_count": 1,
   "metadata": {},
   "outputs": [
    {
     "name": "stdout",
     "output_type": "stream",
     "text": [
      "x is greater than 5\n"
     ]
    }
   ],
   "source": [
    "# simple if statement\n",
    "x = 10\n",
    "\n",
    "if x > 5:\n",
    "    print(\"x is greater than 5\")"
   ]
  },
  {
   "cell_type": "markdown",
   "metadata": {},
   "source": [
    "### if-else Statements"
   ]
  },
  {
   "cell_type": "code",
   "execution_count": 2,
   "metadata": {},
   "outputs": [
    {
     "name": "stdout",
     "output_type": "stream",
     "text": [
      "x is not greater than y\n"
     ]
    }
   ],
   "source": [
    "# if-else statement\n",
    "\n",
    "x=10 \n",
    "y=20\n",
    "if x>y:\n",
    "    print(\"x is greater than y\")\n",
    "else:\n",
    "    print(\"x is not greater than y\")"
   ]
  },
  {
   "cell_type": "markdown",
   "metadata": {},
   "source": [
    "### if-elif-else"
   ]
  },
  {
   "cell_type": "code",
   "execution_count": 3,
   "metadata": {},
   "outputs": [
    {
     "name": "stdout",
     "output_type": "stream",
     "text": [
      "z is greater than x and y\n"
     ]
    }
   ],
   "source": [
    "# if-elif-else statement\n",
    "x=10\n",
    "y=20\n",
    "z=30\n",
    "if x>y and x>z:\n",
    "    print(\"x is greater than y and z\")\n",
    "elif y>x and y>z:\n",
    "    print(\"y is greater than x and z\")\n",
    "else:\n",
    "    print(\"z is greater than x and y\")\n"
   ]
  },
  {
   "cell_type": "markdown",
   "metadata": {},
   "source": [
    "## Some Usefull Examples"
   ]
  },
  {
   "cell_type": "code",
   "execution_count": 5,
   "metadata": {},
   "outputs": [
    {
     "name": "stdout",
     "output_type": "stream",
     "text": [
      "The largest number is 56\n"
     ]
    }
   ],
   "source": [
    "# find the largest of three numbers\n",
    "num1 =int(input(\"Enter first number: \"))\n",
    "num2 =int(input(\"Enter second number: \"))\n",
    "num3 =int(input(\"Enter third number: \"))\n",
    "\n",
    "if (num1 >= num2) and (num1 >= num3):\n",
    "   largest = num1\n",
    "elif (num2 >= num1) and (num2 >= num3):\n",
    "   largest = num2\n",
    "else:\n",
    "   largest = num3\n",
    "\n",
    "print(\"The largest number is\", largest)"
   ]
  },
  {
   "cell_type": "code",
   "execution_count": 7,
   "metadata": {},
   "outputs": [
    {
     "name": "stdout",
     "output_type": "stream",
     "text": [
      "number is odd\n"
     ]
    }
   ],
   "source": [
    "# find number is even or odd or equal to zero\n",
    "num1=int(input(\"Enter first number: \"))\n",
    "if num1==0:\n",
    "    print(\"number is equal to zero\")\n",
    "elif num1%2==0:\n",
    "    print(\"number is even\")\n",
    "else:\n",
    "    print(\"number is odd\")"
   ]
  },
  {
   "cell_type": "markdown",
   "metadata": {},
   "source": [
    "> Excercise 2 write a program that give time as input and than ask Good moring Good Evening And good Afternoon"
   ]
  },
  {
   "cell_type": "code",
   "execution_count": null,
   "metadata": {},
   "outputs": [],
   "source": []
  }
 ],
 "metadata": {
  "kernelspec": {
   "display_name": "Python 3",
   "language": "python",
   "name": "python3"
  },
  "language_info": {
   "codemirror_mode": {
    "name": "ipython",
    "version": 3
   },
   "file_extension": ".py",
   "mimetype": "text/x-python",
   "name": "python",
   "nbconvert_exporter": "python",
   "pygments_lexer": "ipython3",
   "version": "3.12.3"
  }
 },
 "nbformat": 4,
 "nbformat_minor": 2
}
