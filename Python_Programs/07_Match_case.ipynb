{
 "cells": [
  {
   "cell_type": "markdown",
   "metadata": {},
   "source": [
    "\n",
    "`Author By` :: `Hasnain Zaman`\n"
   ]
  },
  {
   "cell_type": "markdown",
   "metadata": {},
   "source": [
    "# Match Statement\n",
    "As of Python 3.10, Python introduces the match statement, which is a new syntax for pattern matching. It's similar to a switch or match statement found in other programming languages. However, it's important to note that match statements are used for more complex pattern matching scenarios rather than simple arithmetic operations. Here's an example of using the match statement in Python:"
   ]
  },
  {
   "cell_type": "markdown",
   "metadata": {},
   "source": [
    "### Quick Quiz\n",
    "> create a calculator using match case"
   ]
  },
  {
   "cell_type": "code",
   "execution_count": 1,
   "metadata": {},
   "outputs": [
    {
     "name": "stdout",
     "output_type": "stream",
     "text": [
      "Multiplication =  32\n"
     ]
    }
   ],
   "source": [
    "# take two numbers and an operator as input\n",
    "x=int(input(\"Enter first number: \"))\n",
    "y=int(input(\"Enter second number: \"))\n",
    "operator=input(\"Enter operator: + , - , * , / \")\n",
    "\n",
    "match operator:\n",
    "    case '+':\n",
    "        print(\"Sum = \",x+y)\n",
    "    case'-':\n",
    "        print(\"Subtraction = \",x-y)\n",
    "    case '*':\n",
    "        print(\"Multiplication = \",x*y)\n",
    "    case '/':\n",
    "        if y == 0:\n",
    "            print( \"Cannot divide by zero!\")\n",
    "        else:\n",
    "            print(\"division = \",x/y)\n",
    "    case _:\n",
    "        print(\"Invalid operator\")\n",
    "\n",
    "\n"
   ]
  },
  {
   "cell_type": "code",
   "execution_count": null,
   "metadata": {},
   "outputs": [],
   "source": []
  }
 ],
 "metadata": {
  "kernelspec": {
   "display_name": "Python 3",
   "language": "python",
   "name": "python3"
  },
  "language_info": {
   "codemirror_mode": {
    "name": "ipython",
    "version": 3
   },
   "file_extension": ".py",
   "mimetype": "text/x-python",
   "name": "python",
   "nbconvert_exporter": "python",
   "pygments_lexer": "ipython3",
   "version": "3.12.3"
  }
 },
 "nbformat": 4,
 "nbformat_minor": 2
}
