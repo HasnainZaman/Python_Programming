{
 "cells": [
  {
   "cell_type": "markdown",
   "metadata": {},
   "source": [
    "`Author By` :: `Hasnain Zaman`\\\n",
    "`For Contact`::[Linkdin](www.linkedin.com/in/hasnainzaman)"
   ]
  },
  {
   "cell_type": "markdown",
   "metadata": {},
   "source": [
    "# Operators"
   ]
  },
  {
   "cell_type": "markdown",
   "metadata": {},
   "source": [
    "In Python, operators are symbols used to perform operations on variables and values. Here are some common types of operators in Python:"
   ]
  },
  {
   "cell_type": "markdown",
   "metadata": {},
   "source": [
    "## Arithmetic Operators:\n",
    "Definition: Arithmetic operators are used to perform mathematical operations like addition, subtraction, multiplication, division, etc.\n",
    "Subtypes: Addition (+), Subtraction (-), Multiplication (*), Division (/), Modulus (%), Exponentiation (**), Floor Division (//)\n",
    "Example:"
   ]
  },
  {
   "cell_type": "code",
   "execution_count": null,
   "metadata": {},
   "outputs": [],
   "source": [
    "\n",
    "x = 10\n",
    "y = 3\n",
    "print(\"Addition:\", x + y)         \n",
    "print(\"Subtraction:\", x - y)      \n",
    "print(\"Multiplication:\", x * y)   \n",
    "print(\"Division:\", x / y)         \n",
    "print(\"Modulus:\", x % y)          \n",
    "print(\"Exponentiation:\", x ** y)  \n",
    "print(\"Floor Division:\", x // y)  \n"
   ]
  },
  {
   "cell_type": "markdown",
   "metadata": {},
   "source": [
    "## Assignment Operators:\n",
    "Definition: Assignment operators are used to assign values to variables.\n",
    "Subtypes: Assignment (=), Compound Assignment (e.g., +=, -=, *=, /=)\n",
    "Example:"
   ]
  },
  {
   "cell_type": "code",
   "execution_count": null,
   "metadata": {},
   "outputs": [],
   "source": [
    "\n",
    "a = 5\n",
    "a += 3   \n",
    "print(\"Assignment:\", a)\n"
   ]
  },
  {
   "cell_type": "markdown",
   "metadata": {},
   "source": [
    "## Comparison Operators:\n",
    "Definition: Comparison operators are used to compare values. They return True or False depending on the comparison.\n",
    "Subtypes: Equal to (==), Not equal to (!=), Greater than (>), Less than (<), Greater than or equal to (>=), Less than or equal to (<=)\n",
    "Example:"
   ]
  },
  {
   "cell_type": "code",
   "execution_count": null,
   "metadata": {},
   "outputs": [],
   "source": [
    "x = 5\n",
    "y = 5\n",
    "print(x == y)  \n"
   ]
  },
  {
   "cell_type": "code",
   "execution_count": null,
   "metadata": {},
   "outputs": [],
   "source": [
    "x = 5\n",
    "y = 3\n",
    "print(x != y)  \n"
   ]
  },
  {
   "cell_type": "code",
   "execution_count": null,
   "metadata": {},
   "outputs": [],
   "source": [
    "x = 5\n",
    "y = 3\n",
    "print(x > y) \n"
   ]
  },
  {
   "cell_type": "code",
   "execution_count": null,
   "metadata": {},
   "outputs": [],
   "source": [
    "x = 3\n",
    "y = 5\n",
    "print(x < y) \n"
   ]
  },
  {
   "cell_type": "code",
   "execution_count": null,
   "metadata": {},
   "outputs": [],
   "source": [
    "x = 5\n",
    "y = 5\n",
    "print(x >= y)  \n"
   ]
  },
  {
   "cell_type": "code",
   "execution_count": 5,
   "metadata": {},
   "outputs": [
    {
     "name": "stdout",
     "output_type": "stream",
     "text": [
      "True\n"
     ]
    }
   ],
   "source": [
    "x = 3\n",
    "y = 5\n",
    "print(x <= y)  \n"
   ]
  },
  {
   "cell_type": "markdown",
   "metadata": {},
   "source": [
    "## Logical Operators:\n",
    "Definition: Logical operators are used to combine conditional statements. They return True or False.\n",
    "Subtypes: Logical AND (and), Logical OR (or), Logical NOT (not)\n"
   ]
  },
  {
   "cell_type": "code",
   "execution_count": 1,
   "metadata": {},
   "outputs": [
    {
     "name": "stdout",
     "output_type": "stream",
     "text": [
      "Logical AND: False\n",
      "Logical OR: True\n",
      "Logical NOT: False\n"
     ]
    }
   ],
   "source": [
    "# Logical Operators\n",
    "p = True\n",
    "q = False\n",
    "print(\"Logical AND:\", p and q)   \n",
    "print(\"Logical OR:\", p or q)     \n",
    "print(\"Logical NOT:\", not p)     \n"
   ]
  },
  {
   "cell_type": "markdown",
   "metadata": {},
   "source": [
    "## Bitwise Operators:\n",
    "Definition: Bitwise operators perform bit-level operations on operands.\n",
    "Subtypes: Bitwise AND (&), Bitwise OR (|), Bitwise XOR (^), Bitwise NOT (~), Left Shift (<<), Right Shift (>>)\n"
   ]
  },
  {
   "cell_type": "code",
   "execution_count": 4,
   "metadata": {},
   "outputs": [
    {
     "name": "stdout",
     "output_type": "stream",
     "text": [
      "Bitwise AND: 2\n",
      "Bitwise OR: 15\n",
      "Bitwise XOR: 13\n",
      "Bitwise NOT: -11\n"
     ]
    }
   ],
   "source": [
    "\n",
    "m = 10   \n",
    "n = 7   \n",
    "print(\"Bitwise AND:\", m & n)    \n",
    "print(\"Bitwise OR:\", m | n)     \n",
    "print(\"Bitwise XOR:\", m ^ n)     \n",
    "print(\"Bitwise NOT:\", ~m)       \n"
   ]
  },
  {
   "cell_type": "markdown",
   "metadata": {},
   "source": [
    "## Membership Operators:\n",
    "Definition: Membership operators are used to test whether a value is present in a sequence.\n",
    "Subtypes: In (in), Not in (not in)\n"
   ]
  },
  {
   "cell_type": "code",
   "execution_count": 3,
   "metadata": {},
   "outputs": [
    {
     "name": "stdout",
     "output_type": "stream",
     "text": [
      "Membership: True\n"
     ]
    }
   ],
   "source": [
    "\n",
    "my_list = [1, 2, 3, 4, 5]\n",
    "print(\"Membership:\", 3 in my_list)  \n"
   ]
  },
  {
   "cell_type": "markdown",
   "metadata": {},
   "source": [
    "## Identity Operators:\n",
    "Definition: Identity operators are used to compare the memory locations of two objects.\n",
    "Subtypes: Is (is), Is not (is not)\n"
   ]
  },
  {
   "cell_type": "code",
   "execution_count": 2,
   "metadata": {},
   "outputs": [
    {
     "name": "stdout",
     "output_type": "stream",
     "text": [
      "Identity: True\n"
     ]
    }
   ],
   "source": [
    "\n",
    "x = 5\n",
    "y = 5\n",
    "print(\"Identity:\", x is y)  \n"
   ]
  },
  {
   "cell_type": "code",
   "execution_count": null,
   "metadata": {},
   "outputs": [],
   "source": []
  }
 ],
 "metadata": {
  "kernelspec": {
   "display_name": "Python 3",
   "language": "python",
   "name": "python3"
  },
  "language_info": {
   "codemirror_mode": {
    "name": "ipython",
    "version": 3
   },
   "file_extension": ".py",
   "mimetype": "text/x-python",
   "name": "python",
   "nbconvert_exporter": "python",
   "pygments_lexer": "ipython3",
   "version": "3.12.3"
  }
 },
 "nbformat": 4,
 "nbformat_minor": 2
}
