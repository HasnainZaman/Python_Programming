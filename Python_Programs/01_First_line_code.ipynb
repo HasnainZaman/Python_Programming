{
 "cells": [
  {
   "cell_type": "markdown",
   "metadata": {},
   "source": [
    "`Author By` :: `Hasnain Zaman`\\\n"
   ]
  },
  {
   "cell_type": "markdown",
   "metadata": {},
   "source": [
    "# Python"
   ]
  },
  {
   "cell_type": "markdown",
   "metadata": {},
   "source": [
    "Python is a high-level, interpreted programming language known for its simplicity and readability. Developed by Guido van Rossum and first released in 1991, Python emphasizes code readability and clarity, making it a popular choice for beginners and experienced programmers alike.\n",
    "## Characteristics of Python:\n",
    "\n",
    "### Easy to Learn and Use: \n",
    "Python's syntax is clear and concise, making it easy to read and write code. This simplicity reduces the time required to develop, debug, and maintain Python programs.\\\n",
    "### Versatility: \n",
    "Python supports multiple programming paradigms, including procedural, object-oriented, and functional programming. It is widely used in various domains such as web development, data analysis, machine learning, artificial intelligence, scientific computing, and automation.\\\n",
    "### Interpreted Language:\n",
    "Python code is executed line by line by the Python interpreter, rather than being compiled into machine code. This allows for quick prototyping and interactive development, as developers can execute code and see results immediately.\\\n",
    "### Extensive Standard Library:\n",
    "Python comes with a comprehensive standard library that provides modules and functions for a wide range of tasks, from file I/O and networking to data manipulation and GUI development. This extensive library reduces the need for external dependencies and accelerates development.\\\n",
    "### Large Ecosystem: \n",
    "Python has a vibrant ecosystem with a vast collection of third-party libraries and frameworks developed by the community. These libraries cover various domains and extend Python's capabilities, enabling developers to build complex applications efficiently."
   ]
  },
  {
   "cell_type": "code",
   "execution_count": 1,
   "metadata": {},
   "outputs": [
    {
     "name": "stdout",
     "output_type": "stream",
     "text": [
      "Hello World!\n"
     ]
    }
   ],
   "source": [
    "# first Line of code using python\n",
    "print(\"Hello World!\")"
   ]
  },
  {
   "cell_type": "code",
   "execution_count": 2,
   "metadata": {},
   "outputs": [
    {
     "name": "stdout",
     "output_type": "stream",
     "text": [
      "15\n"
     ]
    }
   ],
   "source": [
    "# some example code\n",
    "x = 5\n",
    "y = 10\n",
    "z = x + y\n",
    "print(z)"
   ]
  },
  {
   "cell_type": "code",
   "execution_count": null,
   "metadata": {},
   "outputs": [],
   "source": []
  }
 ],
 "metadata": {
  "kernelspec": {
   "display_name": "base",
   "language": "python",
   "name": "python3"
  },
  "language_info": {
   "codemirror_mode": {
    "name": "ipython",
    "version": 3
   },
   "file_extension": ".py",
   "mimetype": "text/x-python",
   "name": "python",
   "nbconvert_exporter": "python",
   "pygments_lexer": "ipython3",
   "version": "3.12.1"
  }
 },
 "nbformat": 4,
 "nbformat_minor": 2
}
