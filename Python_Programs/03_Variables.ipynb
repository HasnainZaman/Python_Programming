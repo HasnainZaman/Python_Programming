{
 "cells": [
  {
   "cell_type": "markdown",
   "metadata": {},
   "source": [
    "`Author By` :: `Hasnain Zaman`\\\n",
    "`For Contact`::[Linkdin](www.linkedin.com/in/hasnainzaman)"
   ]
  },
  {
   "cell_type": "markdown",
   "metadata": {},
   "source": [
    "`**In Python, variables**` are used to store data values. A variable is created the moment you first assign a value to it. Python is dynamically typed, meaning you don't need to explicitly declare the data type of a variable; it's inferred based on the value assigned to it.\n",
    "\n",
    "Here's a brief overview of variables and some commonly used data types in Python:\n",
    "\n",
    "## Variables:\n",
    "Variables are containers for storing data values.\n",
    "Variable names are case-sensitive and can consist of letters, digits, and underscores (_), but they cannot start with a digit.\n",
    "Python variable names should be descriptive and meaningful to enhance code readability."
   ]
  },
  {
   "cell_type": "markdown",
   "metadata": {},
   "source": [
    "`Examples`"
   ]
  },
  {
   "cell_type": "code",
   "execution_count": 1,
   "metadata": {},
   "outputs": [
    {
     "name": "stdout",
     "output_type": "stream",
     "text": [
      "10\n",
      "Alice\n",
      "True\n",
      "3.14\n"
     ]
    }
   ],
   "source": [
    "# Assigning values to variables\n",
    "x = 10\n",
    "name = \"Alice\"\n",
    "is_valid = True\n",
    "pi_value = 3.14\n",
    "\n",
    "# Accessing variable values\n",
    "print(x)         # Output: 10\n",
    "print(name)      # Output: Alice\n",
    "print(is_valid)  # Output: True\n",
    "print(pi_value)  # Output: 3.14\n"
   ]
  },
  {
   "cell_type": "markdown",
   "metadata": {},
   "source": [
    "## Data Types:\n",
    "Python supports various built-in data types to represent different kinds of data.\n",
    "Some common data types include integers, floats, strings, booleans, lists, tuples, dictionaries, and sets."
   ]
  },
  {
   "cell_type": "code",
   "execution_count": 4,
   "metadata": {},
   "outputs": [
    {
     "name": "stdout",
     "output_type": "stream",
     "text": [
      "integer = 25\n",
      "float = 65.5\n",
      "string = 123 Main Street\n",
      "boolean = True\n",
      "list = [90, 85, 75, 95]\n",
      "tuple = (10, 20)\n",
      "dictionary = {'name': 'Bob', 'age': 30, 'city': 'New York'}\n",
      "set = {1, 2, 3, 4, 5}\n"
     ]
    }
   ],
   "source": [
    "# Integer\n",
    "age = 25\n",
    "\n",
    "# Float\n",
    "weight = 65.5\n",
    "\n",
    "# String\n",
    "address = \"123 Main Street\"\n",
    "\n",
    "# Boolean\n",
    "is_student = True\n",
    "\n",
    "# List\n",
    "grades = [90, 85, 75, 95]\n",
    "\n",
    "# Tuple\n",
    "coordinates = (10, 20)\n",
    "\n",
    "# Dictionary\n",
    "person = {\"name\": \"Bob\", \"age\": 30, \"city\": \"New York\"}\n",
    "\n",
    "# Set\n",
    "unique_numbers = {1, 2, 3, 4, 5}\n",
    "\n",
    "# print the variables in a separate line\n",
    "print(\"integer =\",age)\n",
    "print(\"float =\",weight)\n",
    "print(\"string =\",address)\n",
    "print(\"boolean =\",is_student)\n",
    "print(\"list =\",grades)\n",
    "print(\"tuple =\",coordinates)\n",
    "print(\"dictionary =\",person)\n",
    "print(\"set =\",unique_numbers)\n",
    "\n",
    "\n"
   ]
  },
  {
   "cell_type": "code",
   "execution_count": null,
   "metadata": {},
   "outputs": [],
   "source": []
  }
 ],
 "metadata": {
  "kernelspec": {
   "display_name": "base",
   "language": "python",
   "name": "python3"
  },
  "language_info": {
   "codemirror_mode": {
    "name": "ipython",
    "version": 3
   },
   "file_extension": ".py",
   "mimetype": "text/x-python",
   "name": "python",
   "nbconvert_exporter": "python",
   "pygments_lexer": "ipython3",
   "version": "3.12.1"
  }
 },
 "nbformat": 4,
 "nbformat_minor": 2
}
