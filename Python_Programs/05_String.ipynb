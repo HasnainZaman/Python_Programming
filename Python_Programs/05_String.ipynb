{
 "cells": [
  {
   "cell_type": "markdown",
   "metadata": {},
   "source": [
    "`Author By` :: `Hasnain Zaman`\n"
   ]
  },
  {
   "cell_type": "markdown",
   "metadata": {},
   "source": [
    "# Strings\n",
    "In Python, a string is a sequence of characters enclosed within either `single quotes (' ')`, `double quotes (\" \")`, or `triple quotes (''' ''')`. Strings are immutable, meaning once they are created, their contents cannot be changed. Here's a definition of a string with examples:\n",
    " Creating Strings:Strings can be created by enclosing characters within single quotes, double quotes, or triple quotes.\n",
    "\n",
    " ## Example"
   ]
  },
  {
   "cell_type": "code",
   "execution_count": 4,
   "metadata": {},
   "outputs": [
    {
     "name": "stdout",
     "output_type": "stream",
     "text": [
      "hello hasnain\n",
      "hello hasnain\n",
      " hello hasnain    \n",
      "        how are you\n",
      "        what are you doing\n",
      "    \n"
     ]
    }
   ],
   "source": [
    "x= 'hello hasnain'\n",
    "x1 =\"hello hasnain\"\n",
    "x2 =''' hello hasnain    \n",
    "        how are you\n",
    "        what are you doing\n",
    "    '''\n",
    "\n",
    "print(x)\n",
    "print(x1)\n",
    "print(x2)"
   ]
  },
  {
   "cell_type": "markdown",
   "metadata": {},
   "source": [
    "## Sclicing\n",
    "Slicing is a technique in Python used to extract a substring (a portion of a string) by specifying a range of indices. It allows you to access a part of a string without modifying the original string\\\n",
    "Syntax\n",
    "                `string[start_index:stop_index:step]`"
   ]
  },
  {
   "cell_type": "code",
   "execution_count": 5,
   "metadata": {},
   "outputs": [
    {
     "name": "stdout",
     "output_type": "stream",
     "text": [
      "Hasnain Zaman\n",
      "Hasna\n",
      "in Zaman\n"
     ]
    }
   ],
   "source": [
    "# for example\n",
    "name = 'Hasnain Zaman'\n",
    "\n",
    "print(name[:])# print whole string\n",
    "print(name[0:5]) # print from 0 to 4\n",
    "print(name[5:]) # print from 5 to end"
   ]
  },
  {
   "cell_type": "markdown",
   "metadata": {},
   "source": [
    "## Method of String"
   ]
  },
  {
   "cell_type": "code",
   "execution_count": 6,
   "metadata": {},
   "outputs": [
    {
     "name": "stdout",
     "output_type": "stream",
     "text": [
      "13\n"
     ]
    }
   ],
   "source": [
    "# Len function\n",
    "print(len(name))"
   ]
  },
  {
   "cell_type": "code",
   "execution_count": 7,
   "metadata": {},
   "outputs": [
    {
     "name": "stdout",
     "output_type": "stream",
     "text": [
      "HASNAIN ZAMAN\n"
     ]
    }
   ],
   "source": [
    "# upper function\n",
    "print(name.upper())"
   ]
  },
  {
   "cell_type": "code",
   "execution_count": 8,
   "metadata": {},
   "outputs": [
    {
     "name": "stdout",
     "output_type": "stream",
     "text": [
      "hasnain zaman\n"
     ]
    }
   ],
   "source": [
    "# lower function\n",
    "print(name.lower())"
   ]
  },
  {
   "cell_type": "code",
   "execution_count": 9,
   "metadata": {},
   "outputs": [
    {
     "name": "stdout",
     "output_type": "stream",
     "text": [
      "8\n"
     ]
    }
   ],
   "source": [
    "# find function\n",
    "\n",
    "print(name.find('Zaman'))"
   ]
  },
  {
   "cell_type": "code",
   "execution_count": 10,
   "metadata": {},
   "outputs": [
    {
     "name": "stdout",
     "output_type": "stream",
     "text": [
      "Hasnain Zaman Khan\n"
     ]
    }
   ],
   "source": [
    "# replace function\n",
    "print(name.replace('Zaman','Zaman Khan'))"
   ]
  },
  {
   "cell_type": "code",
   "execution_count": null,
   "metadata": {},
   "outputs": [],
   "source": []
  }
 ],
 "metadata": {
  "kernelspec": {
   "display_name": "Python 3",
   "language": "python",
   "name": "python3"
  },
  "language_info": {
   "codemirror_mode": {
    "name": "ipython",
    "version": 3
   },
   "file_extension": ".py",
   "mimetype": "text/x-python",
   "name": "python",
   "nbconvert_exporter": "python",
   "pygments_lexer": "ipython3",
   "version": "3.12.3"
  }
 },
 "nbformat": 4,
 "nbformat_minor": 2
}
