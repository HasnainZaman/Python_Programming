{
 "cells": [
  {
   "cell_type": "markdown",
   "metadata": {},
   "source": [
    "\n",
    "`Author By` :: `Hasnain Zaman`\n"
   ]
  },
  {
   "cell_type": "markdown",
   "metadata": {},
   "source": [
    "# Recursion\n",
    "Recursion is a programming technique where a function calls itself directly or indirectly to solve a problem. In Python, you can use recursion to solve problems that can be broken down into smaller, similar subproblems. Recursion consists of two main components:\\\n",
    "`Base Case:` This is the termination condition for the recursive function. It defines the simplest case where the function can return a result without making any further recursive calls. Without a base case, the recursive function would continue indefinitely, leading to a stack overflow error.\\\n",
    "`Recursive Case:` This is the case where the function calls itself with modified arguments to solve a smaller instance of the original problem. The function continues to make recursive calls until it reaches the base case.\n",
    "Here's an example of a recursive function to calculate the factorial of a non-negative integer:"
   ]
  },
  {
   "cell_type": "code",
   "execution_count": 1,
   "metadata": {},
   "outputs": [
    {
     "name": "stdout",
     "output_type": "stream",
     "text": [
      "120\n"
     ]
    }
   ],
   "source": [
    "def factorial(n):\n",
    "    # Base case: factorial of 0 is 1\n",
    "    if n == 0:\n",
    "        return 1\n",
    "    # Recursive case: n * factorial(n-1)\n",
    "    else:\n",
    "        return n * factorial(n - 1)\n",
    "\n",
    "# Test the factorial function\n",
    "print(factorial(5))  \n"
   ]
  },
  {
   "cell_type": "code",
   "execution_count": 2,
   "metadata": {},
   "outputs": [
    {
     "name": "stdout",
     "output_type": "stream",
     "text": [
      "720\n"
     ]
    }
   ],
   "source": [
    "# create a program that calculates the factorial of a number using recursion \n",
    "\n",
    "int=int(input(\"Enter a number: \"))\n",
    "def fact(n):\n",
    "    if n==0:\n",
    "        return 1\n",
    "    else:\n",
    "        return n*fact(n-1)\n",
    "print(fact(int))"
   ]
  },
  {
   "cell_type": "code",
   "execution_count": null,
   "metadata": {},
   "outputs": [],
   "source": []
  }
 ],
 "metadata": {
  "kernelspec": {
   "display_name": "Python 3",
   "language": "python",
   "name": "python3"
  },
  "language_info": {
   "codemirror_mode": {
    "name": "ipython",
    "version": 3
   },
   "file_extension": ".py",
   "mimetype": "text/x-python",
   "name": "python",
   "nbconvert_exporter": "python",
   "pygments_lexer": "ipython3",
   "version": "3.12.3"
  }
 },
 "nbformat": 4,
 "nbformat_minor": 2
}
