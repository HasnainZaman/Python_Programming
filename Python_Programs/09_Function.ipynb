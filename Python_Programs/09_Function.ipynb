{
 "cells": [
  {
   "cell_type": "markdown",
   "metadata": {},
   "source": [
    "\n",
    "`Author By` :: `Hasnain Zaman`\n"
   ]
  },
  {
   "cell_type": "markdown",
   "metadata": {},
   "source": [
    "# Function:\n",
    "In Python, a function is a block of reusable code that performs a specific task. Functions provide a way to modularize your code, making it more organized, readable, and maintainable.\n",
    "## Types\n"
   ]
  },
  {
   "cell_type": "markdown",
   "metadata": {},
   "source": [
    "### Built-in Functions: \n",
    "These are functions that are built into Python and are available for use without needing to define them. Examples include print(), len(), input(), etc.\n"
   ]
  },
  {
   "cell_type": "code",
   "execution_count": 1,
   "metadata": {},
   "outputs": [
    {
     "name": "stdout",
     "output_type": "stream",
     "text": [
      "<class 'list'>\n",
      "10\n"
     ]
    }
   ],
   "source": [
    "# example of some builtin functions\n",
    "x= [1,2,3,4,5,6,7,8,9,10]\n",
    "print(type(x)) # type is a builtin function\n",
    "print(len(x)) # len is a builtin function"
   ]
  },
  {
   "cell_type": "markdown",
   "metadata": {},
   "source": [
    "### User-defined Functions: \n",
    "These are functions defined by the programmer to perform specific tasks as needed."
   ]
  },
  {
   "cell_type": "code",
   "execution_count": 4,
   "metadata": {},
   "outputs": [
    {
     "name": "stdout",
     "output_type": "stream",
     "text": [
      "11\n",
      "-1\n",
      "30\n",
      "60.0\n"
     ]
    }
   ],
   "source": [
    "# defining a function add two numbers\n",
    "\n",
    "def add(a,b):\n",
    "    return a+b\n",
    "\n",
    "# defining a function add subtract numbers\n",
    "def sub(a,b):\n",
    "    return a-b\n",
    "\n",
    "# defining a function add multiply numbers\n",
    "def mul(a,b):\n",
    "    return a*b\n",
    "\n",
    "# defining a function add divide numbers\n",
    "\n",
    "def div(a,b):\n",
    "    return a/b\n",
    "\n",
    "# calling a function\n",
    "\n",
    "print(add(5,6))\n",
    "print(sub(5,6))\n",
    "print(mul(5,6))\n",
    "print(div(360,6))\n"
   ]
  },
  {
   "cell_type": "code",
   "execution_count": 5,
   "metadata": {},
   "outputs": [
    {
     "name": "stdout",
     "output_type": "stream",
     "text": [
      "45\n"
     ]
    }
   ],
   "source": [
    "# create a caluculator\n",
    "\n",
    "def add(a,b):\n",
    "    return a+b\n",
    "\n",
    "# defining a function add subtract numbers\n",
    "def sub(a,b):\n",
    "    return a-b\n",
    "\n",
    "# defining a function add multiply numbers\n",
    "def mul(a,b):\n",
    "    return a*b\n",
    "\n",
    "# defining a function add divide numbers\n",
    "\n",
    "def div(a,b):\n",
    "    if b==0:\n",
    "        print(\"Can't divide by zero\")\n",
    "    else:\n",
    "        return a/b\n",
    "\n",
    "num1=int(input(\"Enter the first number: \"))\n",
    "num2=int(input(\"Enter the second number: \"))\n",
    "opr = input(\"Enter the operator: '+', '-', '*', '/'  \")\n",
    "\n",
    "if opr==\"+\":\n",
    "    print(add(num1,num2))\n",
    "elif opr==\"-\":\n",
    "    print(sub(num1,num2))\n",
    "elif opr==\"*\":\n",
    "    print(mul(num1,num2))\n",
    "elif opr==\"/\":\n",
    "    print(div(num1,num2))\n",
    "else:\n",
    "    print(\"Invalid operator\")"
   ]
  },
  {
   "cell_type": "code",
   "execution_count": null,
   "metadata": {},
   "outputs": [],
   "source": []
  }
 ],
 "metadata": {
  "kernelspec": {
   "display_name": "Python 3",
   "language": "python",
   "name": "python3"
  },
  "language_info": {
   "codemirror_mode": {
    "name": "ipython",
    "version": 3
   },
   "file_extension": ".py",
   "mimetype": "text/x-python",
   "name": "python",
   "nbconvert_exporter": "python",
   "pygments_lexer": "ipython3",
   "version": "3.12.3"
  }
 },
 "nbformat": 4,
 "nbformat_minor": 2
}
