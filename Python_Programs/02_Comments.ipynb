{
 "cells": [
  {
   "cell_type": "markdown",
   "metadata": {},
   "source": [
    "`Author By` :: `Hasnain Zaman`\n"
   ]
  },
  {
   "cell_type": "markdown",
   "metadata": {},
   "source": [
    "# Comments"
   ]
  },
  {
   "cell_type": "markdown",
   "metadata": {},
   "source": [
    "\n",
    "Comments in Python are lines of text that are ignored by the interpreter during program execution.\n",
    "They are used to add explanatory notes, document code, or temporarily disable code segments.\n",
    "Python supports two types of comments:\n",
    "### Single-line comments:\n",
    "Indicated by the # symbol. Everything after # on the same line is considered a comment.\n",
    "### Multi-line comments: \n",
    "Also known as docstrings, are enclosed within triple quotes (''' or \"\"\"). While they are primarily used for documentation strings, they can also serve as block comments."
   ]
  },
  {
   "cell_type": "code",
   "execution_count": 1,
   "metadata": {},
   "outputs": [
    {
     "name": "stdout",
     "output_type": "stream",
     "text": [
      "Hello, world!\n"
     ]
    },
    {
     "data": {
      "text/plain": [
       "'\\nThis is another multi-line comment.\\nIt can also be enclosed within triple double quotes.\\n'"
      ]
     },
     "execution_count": 1,
     "metadata": {},
     "output_type": "execute_result"
    }
   ],
   "source": [
    "# This is a single-line comment\n",
    "print(\"Hello, world!\")  # This comment is at the end of the line\n",
    "\n",
    "'''\n",
    "This is a multi-line comment.\n",
    "It spans multiple lines and is enclosed within triple quotes.\n",
    "'''\n",
    "\n",
    "\"\"\"\n",
    "This is another multi-line comment.\n",
    "It can also be enclosed within triple double quotes.\n",
    "\"\"\"\n"
   ]
  },
  {
   "cell_type": "markdown",
   "metadata": {},
   "source": [
    "## Escape Sequences:\n",
    "Escape sequences in Python are special characters preceded by a backslash (\\) that are used to represent characters that are difficult to type directly or have special meanings in strings.\n",
    "They are used to include characters like newline (\\n), tab (\\t), backslash (\\\\), single quote (\\'), and double quote (\\\") within string literals.\n",
    "Escape sequences allow you to manipulate the appearance and formatting of strings."
   ]
  },
  {
   "cell_type": "code",
   "execution_count": 2,
   "metadata": {},
   "outputs": [
    {
     "name": "stdout",
     "output_type": "stream",
     "text": [
      "Hello\n",
      "World!\n",
      "This is a\ttab.\n",
      "He said, \"Python is awesome!\"\n"
     ]
    }
   ],
   "source": [
    "print(\"Hello\\nWorld!\")  # Output: Hello (newline) World!\n",
    "print(\"This is a\\ttab.\")  # Output: This is a    tab.\n",
    "print(\"He said, \\\"Python is awesome!\\\"\")  # Output: He said, \"Python is awesome!\"\n"
   ]
  },
  {
   "cell_type": "code",
   "execution_count": null,
   "metadata": {},
   "outputs": [],
   "source": []
  }
 ],
 "metadata": {
  "kernelspec": {
   "display_name": "base",
   "language": "python",
   "name": "python3"
  },
  "language_info": {
   "codemirror_mode": {
    "name": "ipython",
    "version": 3
   },
   "file_extension": ".py",
   "mimetype": "text/x-python",
   "name": "python",
   "nbconvert_exporter": "python",
   "pygments_lexer": "ipython3",
   "version": "3.12.1"
  }
 },
 "nbformat": 4,
 "nbformat_minor": 2
}
