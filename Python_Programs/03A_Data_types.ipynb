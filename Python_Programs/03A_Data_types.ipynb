{
 "cells": [
  {
   "cell_type": "markdown",
   "metadata": {},
   "source": [
    "# Data Types:\n",
    "Python supports various built-in data types to represent different kinds of data.\n",
    "Some common data types include integers, floats, strings, booleans, lists, tuples, dictionaries, and sets."
   ]
  },
  {
   "cell_type": "markdown",
   "metadata": {},
   "source": [
    "## LIST"
   ]
  },
  {
   "cell_type": "code",
   "execution_count": 1,
   "metadata": {},
   "outputs": [
    {
     "name": "stdout",
     "output_type": "stream",
     "text": [
      "1\n",
      "3\n"
     ]
    }
   ],
   "source": [
    "my_list = [1, 2, 3, 4, 5]\n",
    "print(my_list[0])  # Output: 1\n",
    "print(my_list[2])  # Output: 3\n"
   ]
  },
  {
   "cell_type": "markdown",
   "metadata": {},
   "source": [
    "## Sclicing"
   ]
  },
  {
   "cell_type": "code",
   "execution_count": 6,
   "metadata": {},
   "outputs": [
    {
     "name": "stdout",
     "output_type": "stream",
     "text": [
      "['hasnain', 'Bilal', 'hassan']\n",
      "['Bilal', 'hassan', 'tajamal']\n",
      "['hasnain', 'Bilal', 'hassan', 'tajamal']\n",
      "['hasnain', 'hassan']\n",
      "tajamal\n"
     ]
    }
   ],
   "source": [
    "name_list =['hasnain',\"Bilal\",\"hassan\",\"tajamal\"]\n",
    "\n",
    "# print only first 3 names\n",
    "print(name_list[:3])\n",
    "# print only last 3 names\n",
    "\n",
    "print(name_list[-3:])\n",
    "\n",
    "# print all names\n",
    "print(name_list)\n",
    "# print every second name\n",
    "print(name_list[0:4:2])\n",
    "\n",
    "print(name_list[3])"
   ]
  },
  {
   "cell_type": "code",
   "execution_count": 7,
   "metadata": {},
   "outputs": [
    {
     "name": "stdout",
     "output_type": "stream",
     "text": [
      "hasnain\n",
      "Bilal\n",
      "hassan\n",
      "tajamal\n"
     ]
    }
   ],
   "source": [
    "for i in name_list:\n",
    "    print(i)"
   ]
  },
  {
   "cell_type": "markdown",
   "metadata": {},
   "source": [
    "## List Methods:\n",
    "`append()`: Adds an element to the end of the list.\\\n",
    "`insert()`: Inserts an element at a specified position.\\\n",
    "`remove()`: Removes the first occurrence of a specified value.\\\n",
    "`pop()`: Removes and returns the element at a specified index (default is the last element).\\\n",
    "`index()`: Returns the index of the first occurrence of a specified value.\\\n",
    "`count()`: Returns the number of occurrences of a specified value.\\\n",
    "`sort()`: Sorts the list in ascending order.\\\n",
    "`reverse()`: Reverses the order of the elements in the list.\\\n",
    "`copy()`: Returns a shallow copy of the list.\\\n",
    "`clear()`: Removes all elements from the list."
   ]
  },
  {
   "cell_type": "code",
   "execution_count": 8,
   "metadata": {},
   "outputs": [
    {
     "name": "stdout",
     "output_type": "stream",
     "text": [
      "['hasnain', 'Bilal', 'hassan', 'tajamal', 'danish']\n"
     ]
    }
   ],
   "source": [
    "# to add a new name in list \n",
    "name_list.append(\"danish\")\n",
    "print(name_list)"
   ]
  },
  {
   "cell_type": "code",
   "execution_count": 9,
   "metadata": {},
   "outputs": [
    {
     "name": "stdout",
     "output_type": "stream",
     "text": [
      "hasnain\n",
      "Bilal\n",
      "Sanan\n",
      "hassan\n",
      "tajamal\n",
      "danish\n"
     ]
    }
   ],
   "source": [
    "# insert name at index 2\n",
    "name_list.insert(2,'Sanan')\n",
    "for i in name_list:\n",
    "    print(i)"
   ]
  },
  {
   "cell_type": "code",
   "execution_count": 10,
   "metadata": {},
   "outputs": [
    {
     "name": "stdout",
     "output_type": "stream",
     "text": [
      "danish\n",
      "tajamal\n",
      "hassan\n",
      "Sanan\n",
      "Bilal\n",
      "hasnain\n"
     ]
    }
   ],
   "source": [
    "# reverse the list\n",
    "name_list.reverse()\n",
    "for i in name_list:\n",
    "    print(i)"
   ]
  },
  {
   "cell_type": "code",
   "execution_count": 14,
   "metadata": {},
   "outputs": [
    {
     "name": "stdout",
     "output_type": "stream",
     "text": [
      "6\n"
     ]
    }
   ],
   "source": [
    "# count a list\n",
    "print(len(name_list))"
   ]
  },
  {
   "cell_type": "code",
   "execution_count": 17,
   "metadata": {},
   "outputs": [
    {
     "name": "stdout",
     "output_type": "stream",
     "text": [
      "['danish', 'tajamal', 'hassan', 'Sanan', 'Bilal', 'hasnain']\n"
     ]
    }
   ],
   "source": [
    "# copy same list\n",
    "new_list =name_list.copy()\n",
    "print(new_list)"
   ]
  },
  {
   "cell_type": "markdown",
   "metadata": {},
   "source": [
    "## Tuple \n",
    "In Python, a tuple is a collection of ordered and immutable (unchangeable) elements. Tuples are defined using parentheses () and elements are separated by commas. Tuples are similar to lists, but they cannot be modified after creation."
   ]
  },
  {
   "cell_type": "code",
   "execution_count": 1,
   "metadata": {},
   "outputs": [
    {
     "name": "stdout",
     "output_type": "stream",
     "text": [
      "<class 'tuple'>\n"
     ]
    }
   ],
   "source": [
    "a =(1,2,3,4,5)\n",
    "print(type(a))"
   ]
  },
  {
   "cell_type": "markdown",
   "metadata": {},
   "source": [
    "## Sets\n",
    "In Python, a set is an unordered collection of unique elements. Sets are defined using curly braces {} or the set() constructor. Sets do not allow duplicate elements, and they are mutable, meaning you can add or remove elements from a set."
   ]
  },
  {
   "cell_type": "code",
   "execution_count": 3,
   "metadata": {},
   "outputs": [
    {
     "name": "stdout",
     "output_type": "stream",
     "text": [
      "<class 'set'>\n",
      "1\n",
      "2\n",
      "3\n",
      "4\n",
      "5\n"
     ]
    }
   ],
   "source": [
    "# create a set\n",
    "a = {1, 2, 3, 4, 5}\n",
    "print(type(a))\n",
    "\n",
    "for i in a:\n",
    "    print(i)"
   ]
  },
  {
   "cell_type": "markdown",
   "metadata": {},
   "source": [
    "## Dictionary\n",
    "In Python, a dictionary is a collection of key-value pairs. It is unordered, mutable, and indexed. Dictionaries are defined using curly braces {} and each key-value pair is separated by a colon :. Keys must be unique and immutable (such as strings, numbers, or tuples), while values can be of any data type and can be mutable or immutable. "
   ]
  },
  {
   "cell_type": "code",
   "execution_count": 4,
   "metadata": {},
   "outputs": [],
   "source": [
    "my_dict = {'name': 'Alice', 'age': 30, 'city': 'New York'}\n",
    "another_dict = dict(name='Bob', age=25, city='London')\n"
   ]
  },
  {
   "cell_type": "code",
   "execution_count": 5,
   "metadata": {},
   "outputs": [
    {
     "name": "stdout",
     "output_type": "stream",
     "text": [
      "Alice\n",
      "30\n"
     ]
    }
   ],
   "source": [
    "my_dict = {'name': 'Alice', 'age': 30, 'city': 'New York'}\n",
    "print(my_dict['name']) \n",
    "print(my_dict['age'])  \n"
   ]
  },
  {
   "cell_type": "code",
   "execution_count": 6,
   "metadata": {},
   "outputs": [
    {
     "name": "stdout",
     "output_type": "stream",
     "text": [
      "{'name': 'Alice', 'age': 30, 'city': 'New York'}\n",
      "{'name': 'Alice', 'age': 31, 'city': 'New York'}\n"
     ]
    }
   ],
   "source": [
    "my_dict = {'name': 'Alice', 'age': 30}\n",
    "my_dict['city'] = 'New York'  \n",
    "print(my_dict)  \n",
    "my_dict['age'] = 31  \n",
    "print(my_dict)  \n"
   ]
  },
  {
   "cell_type": "code",
   "execution_count": 7,
   "metadata": {},
   "outputs": [
    {
     "name": "stdout",
     "output_type": "stream",
     "text": [
      "{'name': 'Alice', 'city': 'New York'}\n",
      "New York\n",
      "{'name': 'Alice'}\n"
     ]
    }
   ],
   "source": [
    "my_dict = {'name': 'Alice', 'age': 30, 'city': 'New York'}\n",
    "del my_dict['age'] \n",
    "print(my_dict)      \n",
    "\n",
    "city = my_dict.pop('city') \n",
    "print(city)    \n",
    "print(my_dict)\n"
   ]
  },
  {
   "cell_type": "code",
   "execution_count": 8,
   "metadata": {},
   "outputs": [
    {
     "name": "stdout",
     "output_type": "stream",
     "text": [
      "dict_keys(['name', 'age', 'city'])\n",
      "dict_values(['Alice', 30, 'New York'])\n",
      "dict_items([('name', 'Alice'), ('age', 30), ('city', 'New York')])\n"
     ]
    }
   ],
   "source": [
    "my_dict = {'name': 'Alice', 'age': 30, 'city': 'New York'}\n",
    "print(my_dict.keys())    \n",
    "print(my_dict.values())  \n",
    "print(my_dict.items()) \n"
   ]
  },
  {
   "cell_type": "code",
   "execution_count": null,
   "metadata": {},
   "outputs": [],
   "source": []
  }
 ],
 "metadata": {
  "kernelspec": {
   "display_name": "Python 3",
   "language": "python",
   "name": "python3"
  },
  "language_info": {
   "codemirror_mode": {
    "name": "ipython",
    "version": 3
   },
   "file_extension": ".py",
   "mimetype": "text/x-python",
   "name": "python",
   "nbconvert_exporter": "python",
   "pygments_lexer": "ipython3",
   "version": "3.12.3"
  }
 },
 "nbformat": 4,
 "nbformat_minor": 2
}
