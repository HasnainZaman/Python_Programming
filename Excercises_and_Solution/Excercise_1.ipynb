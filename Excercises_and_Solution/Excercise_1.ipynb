{
 "cells": [
  {
   "cell_type": "markdown",
   "metadata": {},
   "source": [
    "\n",
    "`Author By` :: `Hasnain Zaman`\n"
   ]
  },
  {
   "cell_type": "markdown",
   "metadata": {},
   "source": [
    "# Write a Simple Calculator using python"
   ]
  },
  {
   "cell_type": "code",
   "execution_count": 5,
   "metadata": {},
   "outputs": [
    {
     "name": "stdout",
     "output_type": "stream",
     "text": [
      "The sum of 100 and 10 is :  110\n",
      "The subtraction of 100 and 10 is :  90\n",
      "The multiplication of 100 and 10 is :  1000\n",
      "The division of 100 and 10 is :  10.0\n"
     ]
    }
   ],
   "source": [
    "# define two variables for user input\n",
    "num1=int(input(\"Enter first number: \"))\n",
    "num2=int(input(\"Enter second number: \"))\n",
    "\n",
    "# now make a calculator that simply add subtract multiply and divide give number \n",
    "\n",
    "sum = num1 + num2\n",
    "print(f\"The sum of {num1} and {num2} is : \",sum)\n",
    "\n",
    "sub = num1 - num2\n",
    "print(f\"The subtraction of {num1} and {num2} is : \",sub)\n",
    "\n",
    "mul = num1 * num2\n",
    "print(f\"The multiplication of {num1} and {num2} is : \",mul)\n",
    "\n",
    "div = num1 / num2\n",
    "print(f\"The division of {num1} and {num2} is : \",div)"
   ]
  },
  {
   "cell_type": "code",
   "execution_count": null,
   "metadata": {},
   "outputs": [],
   "source": []
  }
 ],
 "metadata": {
  "kernelspec": {
   "display_name": "Python 3",
   "language": "python",
   "name": "python3"
  },
  "language_info": {
   "codemirror_mode": {
    "name": "ipython",
    "version": 3
   },
   "file_extension": ".py",
   "mimetype": "text/x-python",
   "name": "python",
   "nbconvert_exporter": "python",
   "pygments_lexer": "ipython3",
   "version": "3.12.3"
  }
 },
 "nbformat": 4,
 "nbformat_minor": 2
}
