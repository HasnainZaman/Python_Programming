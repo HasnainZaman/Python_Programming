{
 "cells": [
  {
   "cell_type": "markdown",
   "metadata": {},
   "source": [
    "\n",
    "`Author By` :: `Hasnain Zaman`\\\n",
    "`For Contact`::[Linkdin](www.linkedin.com/in/hasnainzaman)"
   ]
  },
  {
   "cell_type": "code",
   "execution_count": 7,
   "metadata": {},
   "outputs": [
    {
     "name": "stdout",
     "output_type": "stream",
     "text": [
      "Good night!\n"
     ]
    }
   ],
   "source": [
    "# Excercise 2   Solution\n",
    "\n",
    "# Take input from the user\n",
    "hour = int(input(\"Enter the hour (0-23): \"))\n",
    "\n",
    "# Greet the user based on the input hour\n",
    "if 5 <= hour < 12:\n",
    "    print(\"Good morning!\")\n",
    "elif 12 <= hour < 18:\n",
    "    print(\"Good afternoon!\")\n",
    "elif 18 <= hour < 21:\n",
    "    print(\"Good evening!\")\n",
    "else:\n",
    "    print(\"Good night!\")\n"
   ]
  },
  {
   "cell_type": "code",
   "execution_count": null,
   "metadata": {},
   "outputs": [],
   "source": []
  }
 ],
 "metadata": {
  "kernelspec": {
   "display_name": "Python 3",
   "language": "python",
   "name": "python3"
  },
  "language_info": {
   "codemirror_mode": {
    "name": "ipython",
    "version": 3
   },
   "file_extension": ".py",
   "mimetype": "text/x-python",
   "name": "python",
   "nbconvert_exporter": "python",
   "pygments_lexer": "ipython3",
   "version": "3.12.3"
  }
 },
 "nbformat": 4,
 "nbformat_minor": 2
}
